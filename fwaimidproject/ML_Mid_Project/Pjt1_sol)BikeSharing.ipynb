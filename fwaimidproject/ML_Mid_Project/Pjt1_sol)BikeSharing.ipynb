{
  "nbformat": 4,
  "nbformat_minor": 0,
  "metadata": {
    "colab": {
      "name": "Pjt1_sol)BikeSharing.ipynb",
      "provenance": [],
      "collapsed_sections": []
    },
    "kernelspec": {
      "name": "python3",
      "display_name": "Python 3"
    }
  },
  "cells": [
    {
      "cell_type": "markdown",
      "metadata": {
        "id": "Fluf0SsEnTsx",
        "colab_type": "text"
      },
      "source": [
        "# Machine Learning Work Flow, Pipe Line\n",
        "\n",
        "**주의사항**\n",
        "* preview)를 보고 할 것.\n",
        "* 시각화에 날짜 붙이는 것에 너무 집착하지 말자.\n",
        "    * 판다스를 경유하면 편하다."
      ]
    },
    {
      "cell_type": "markdown",
      "metadata": {
        "id": "1R7fah9vnjSF",
        "colab_type": "text"
      },
      "source": [
        "# Training Work Flow\n",
        "\n",
        "**무엇을 무슨 순서로 했는가?**\n",
        "1. 여기에\n",
        "2. 채워서\n",
        "3. 적으면\n",
        "4. 됩니다."
      ]
    },
    {
      "cell_type": "markdown",
      "metadata": {
        "id": "cr2F0WBHoXoj",
        "colab_type": "text"
      },
      "source": [
        "## 01. Data Loading"
      ]
    },
    {
      "cell_type": "code",
      "metadata": {
        "id": "-6IfF-yMojaL",
        "colab_type": "code",
        "colab": {}
      },
      "source": [
        "import numpy as np\n",
        "import pandas as pd\n",
        "import matplotlib.pyplot as plt"
      ],
      "execution_count": 0,
      "outputs": []
    },
    {
      "cell_type": "code",
      "metadata": {
        "id": "4FkYJSJBofkA",
        "colab_type": "code",
        "colab": {}
      },
      "source": [
        "data_path = 'https://raw.githubusercontent.com/RayleighKim/Example_datasets/master/Bike-Sharing-Dataset/hour.csv'\n",
        "rides = pd.read_csv(data_path)"
      ],
      "execution_count": 0,
      "outputs": []
    },
    {
      "cell_type": "markdown",
      "metadata": {
        "id": "TyP-dXXYqbbG",
        "colab_type": "text"
      },
      "source": [
        "## 02. Train/Validation/Test Split\n",
        "**실습**\n",
        "1. 데이터를 분리 하시오.\n",
        "    * 마지막 21일은 test_data로 분리\n",
        "    * 그 다음 60일(-81 ~ -21)은 val_data로 분리\n",
        "    * 나머지는 train_data로 분리\n",
        "\n",
        "**주의사항**\n",
        "* 이걸 제일 먼저 해야 한다.\n",
        "* Training phase에서는\n",
        "    1. 모든 탐색, 전처리규칙제작 등은 training set에서.\n",
        "    2. validation셋에 대하여 고민해보자.\n"
      ]
    },
    {
      "cell_type": "code",
      "metadata": {
        "id": "Bvgy6gm2qwl2",
        "colab_type": "code",
        "colab": {}
      },
      "source": [
        "test_data = rides[-21*24:]\n",
        "val_data = rides[-81*24:-21*24]\n",
        "train_data = rides[:-81*24]"
      ],
      "execution_count": 0,
      "outputs": []
    },
    {
      "cell_type": "code",
      "metadata": {
        "id": "VQF7-RSrrNe6",
        "colab_type": "code",
        "colab": {}
      },
      "source": [
        ""
      ],
      "execution_count": 0,
      "outputs": []
    },
    {
      "cell_type": "markdown",
      "metadata": {
        "id": "2cZgYmcSogm_",
        "colab_type": "text"
      },
      "source": [
        "## 03. EDA for Feature Engineering\n",
        "\n",
        "* EDA는 명확한 목적하에, 반드시 workflow에 도움이 되는 결과를 도출해야 함.\n",
        "* EDA를 검색해봐도 좋음."
      ]
    },
    {
      "cell_type": "code",
      "metadata": {
        "id": "gkeue2ugpXJF",
        "colab_type": "code",
        "outputId": "18ef5977-6c5d-44ee-bd29-2e3775755d91",
        "colab": {
          "base_uri": "https://localhost:8080/",
          "height": 190
        }
      },
      "source": [
        "train_data.head()"
      ],
      "execution_count": 0,
      "outputs": [
        {
          "output_type": "execute_result",
          "data": {
            "text/html": [
              "<div>\n",
              "<style scoped>\n",
              "    .dataframe tbody tr th:only-of-type {\n",
              "        vertical-align: middle;\n",
              "    }\n",
              "\n",
              "    .dataframe tbody tr th {\n",
              "        vertical-align: top;\n",
              "    }\n",
              "\n",
              "    .dataframe thead th {\n",
              "        text-align: right;\n",
              "    }\n",
              "</style>\n",
              "<table border=\"1\" class=\"dataframe\">\n",
              "  <thead>\n",
              "    <tr style=\"text-align: right;\">\n",
              "      <th></th>\n",
              "      <th>instant</th>\n",
              "      <th>dteday</th>\n",
              "      <th>season</th>\n",
              "      <th>yr</th>\n",
              "      <th>mnth</th>\n",
              "      <th>hr</th>\n",
              "      <th>holiday</th>\n",
              "      <th>weekday</th>\n",
              "      <th>workingday</th>\n",
              "      <th>weathersit</th>\n",
              "      <th>temp</th>\n",
              "      <th>atemp</th>\n",
              "      <th>hum</th>\n",
              "      <th>windspeed</th>\n",
              "      <th>casual</th>\n",
              "      <th>registered</th>\n",
              "      <th>cnt</th>\n",
              "    </tr>\n",
              "  </thead>\n",
              "  <tbody>\n",
              "    <tr>\n",
              "      <th>0</th>\n",
              "      <td>1</td>\n",
              "      <td>2011-01-01</td>\n",
              "      <td>1</td>\n",
              "      <td>0</td>\n",
              "      <td>1</td>\n",
              "      <td>0</td>\n",
              "      <td>0</td>\n",
              "      <td>6</td>\n",
              "      <td>0</td>\n",
              "      <td>1</td>\n",
              "      <td>0.24</td>\n",
              "      <td>0.2879</td>\n",
              "      <td>0.81</td>\n",
              "      <td>0.0</td>\n",
              "      <td>3</td>\n",
              "      <td>13</td>\n",
              "      <td>16</td>\n",
              "    </tr>\n",
              "    <tr>\n",
              "      <th>1</th>\n",
              "      <td>2</td>\n",
              "      <td>2011-01-01</td>\n",
              "      <td>1</td>\n",
              "      <td>0</td>\n",
              "      <td>1</td>\n",
              "      <td>1</td>\n",
              "      <td>0</td>\n",
              "      <td>6</td>\n",
              "      <td>0</td>\n",
              "      <td>1</td>\n",
              "      <td>0.22</td>\n",
              "      <td>0.2727</td>\n",
              "      <td>0.80</td>\n",
              "      <td>0.0</td>\n",
              "      <td>8</td>\n",
              "      <td>32</td>\n",
              "      <td>40</td>\n",
              "    </tr>\n",
              "    <tr>\n",
              "      <th>2</th>\n",
              "      <td>3</td>\n",
              "      <td>2011-01-01</td>\n",
              "      <td>1</td>\n",
              "      <td>0</td>\n",
              "      <td>1</td>\n",
              "      <td>2</td>\n",
              "      <td>0</td>\n",
              "      <td>6</td>\n",
              "      <td>0</td>\n",
              "      <td>1</td>\n",
              "      <td>0.22</td>\n",
              "      <td>0.2727</td>\n",
              "      <td>0.80</td>\n",
              "      <td>0.0</td>\n",
              "      <td>5</td>\n",
              "      <td>27</td>\n",
              "      <td>32</td>\n",
              "    </tr>\n",
              "    <tr>\n",
              "      <th>3</th>\n",
              "      <td>4</td>\n",
              "      <td>2011-01-01</td>\n",
              "      <td>1</td>\n",
              "      <td>0</td>\n",
              "      <td>1</td>\n",
              "      <td>3</td>\n",
              "      <td>0</td>\n",
              "      <td>6</td>\n",
              "      <td>0</td>\n",
              "      <td>1</td>\n",
              "      <td>0.24</td>\n",
              "      <td>0.2879</td>\n",
              "      <td>0.75</td>\n",
              "      <td>0.0</td>\n",
              "      <td>3</td>\n",
              "      <td>10</td>\n",
              "      <td>13</td>\n",
              "    </tr>\n",
              "    <tr>\n",
              "      <th>4</th>\n",
              "      <td>5</td>\n",
              "      <td>2011-01-01</td>\n",
              "      <td>1</td>\n",
              "      <td>0</td>\n",
              "      <td>1</td>\n",
              "      <td>4</td>\n",
              "      <td>0</td>\n",
              "      <td>6</td>\n",
              "      <td>0</td>\n",
              "      <td>1</td>\n",
              "      <td>0.24</td>\n",
              "      <td>0.2879</td>\n",
              "      <td>0.75</td>\n",
              "      <td>0.0</td>\n",
              "      <td>0</td>\n",
              "      <td>1</td>\n",
              "      <td>1</td>\n",
              "    </tr>\n",
              "  </tbody>\n",
              "</table>\n",
              "</div>"
            ],
            "text/plain": [
              "   instant      dteday  season  yr  ...  windspeed  casual  registered  cnt\n",
              "0        1  2011-01-01       1   0  ...        0.0       3          13   16\n",
              "1        2  2011-01-01       1   0  ...        0.0       8          32   40\n",
              "2        3  2011-01-01       1   0  ...        0.0       5          27   32\n",
              "3        4  2011-01-01       1   0  ...        0.0       3          10   13\n",
              "4        5  2011-01-01       1   0  ...        0.0       0           1    1\n",
              "\n",
              "[5 rows x 17 columns]"
            ]
          },
          "metadata": {
            "tags": []
          },
          "execution_count": 38
        }
      ]
    },
    {
      "cell_type": "code",
      "metadata": {
        "id": "4OBIXiDNoqHb",
        "colab_type": "code",
        "outputId": "2005e0e9-f542-48e1-8dc4-bdda09db03e5",
        "colab": {
          "base_uri": "https://localhost:8080/",
          "height": 532
        }
      },
      "source": [
        "print('무엇이 보이는가?')\n",
        "train_data[:24*10].plot(x='dteday', y='cnt', figsize=(13,8) )\n",
        "# train_data[:24*10].plot(x='dteday', y=['registered','cnt'], figsize=(13,8) )"
      ],
      "execution_count": 0,
      "outputs": [
        {
          "output_type": "stream",
          "text": [
            "무엇이 보이는가?\n"
          ],
          "name": "stdout"
        },
        {
          "output_type": "execute_result",
          "data": {
            "text/plain": [
              "<matplotlib.axes._subplots.AxesSubplot at 0x7f1aaa78f2e8>"
            ]
          },
          "metadata": {
            "tags": []
          },
          "execution_count": 39
        },
        {
          "output_type": "display_data",
          "data": {
            "image/png": "[encoded data removed]",
            "text/plain": [
              "<Figure size 936x576 with 1 Axes>"
            ]
          },
          "metadata": {
            "tags": [],
            "needs_background": "light"
          }
        }
      ]
    },
    {
      "cell_type": "markdown",
      "metadata": {
        "id": "XYSfCb_zpTMY",
        "colab_type": "text"
      },
      "source": [
        "**EDA의 결론을 적으시오**<br>\n",
        "Hint : Feature Engineering/Extraction 계획을 하시오.<br>\n",
        "[궁금할지도 모르는 내용](https://datascience.stackexchange.com/questions/29006/feature-selection-vs-feature-extraction-which-to-use-when)\n"
      ]
    },
    {
      "cell_type": "markdown",
      "metadata": {
        "id": "Zr28G5bVpz4X",
        "colab_type": "text"
      },
      "source": [
        "## 04. Feature Engineering.\n",
        "\n",
        "**주의사항** : 여기에서 제작 한 것을, test셋에서도 사용하게 될 것이다. 마구잡이로 하면 안됨\n",
        "\n",
        "1. any ideas : ?\n",
        "1. dummy : ?\n",
        "2. scaling : ?\n",
        "3. drop : ?\n",
        "4. impute : ?\n"
      ]
    },
    {
      "cell_type": "markdown",
      "metadata": {
        "id": "GEyfj-0xrjMb",
        "colab_type": "text"
      },
      "source": [
        "## Dummy & Drop"
      ]
    },
    {
      "cell_type": "code",
      "metadata": {
        "id": "0kee-Ukcqz3b",
        "colab_type": "code",
        "colab": {}
      },
      "source": [
        "dummy_fields = ['season', 'weathersit', 'mnth', 'hr', 'weekday']\n",
        "\n",
        "train_data = pd.get_dummies(train_data, columns=dummy_fields)\n",
        "val_data = pd.get_dummies(val_data, columns=dummy_fields)\n",
        "test_data = pd.get_dummies(test_data, columns=dummy_fields)\n",
        "\n",
        "fields_to_drop = ['instant', 'dteday']\n",
        "\n",
        "train_data.drop(fields_to_drop, axis=1, inplace=True)\n",
        "val_data.drop(fields_to_drop, axis=1, inplace=True)\n",
        "test_data.drop(fields_to_drop, axis=1, inplace=True)"
      ],
      "execution_count": 0,
      "outputs": []
    },
    {
      "cell_type": "code",
      "metadata": {
        "id": "XHDJQMYV-zdU",
        "colab_type": "code",
        "colab": {}
      },
      "source": [
        "train_col = set(train_data.columns)\n",
        "val_col = set(val_data.columns)\n",
        "test_col = set(test_data.columns)\n",
        "\n",
        "for feature in (train_col-val_col) :\n",
        "    val_data[feature] = 0\n",
        "\n",
        "for feature in (train_col-test_col) :\n",
        "    test_data[feature] = 0"
      ],
      "execution_count": 0,
      "outputs": []
    },
    {
      "cell_type": "code",
      "metadata": {
        "id": "0HQpbWPOAWXs",
        "colab_type": "code",
        "colab": {}
      },
      "source": [
        "val_data = val_data[train_data.columns]\n",
        "test_data = test_data[train_data.columns]"
      ],
      "execution_count": 0,
      "outputs": []
    },
    {
      "cell_type": "markdown",
      "metadata": {
        "id": "DRvGYTNX_CHw",
        "colab_type": "text"
      },
      "source": [
        "## Scaling"
      ]
    },
    {
      "cell_type": "code",
      "metadata": {
        "id": "2lmJnOD6ANbi",
        "colab_type": "code",
        "colab": {}
      },
      "source": [
        "train_data.columns"
      ],
      "execution_count": 0,
      "outputs": []
    },
    {
      "cell_type": "code",
      "metadata": {
        "id": "0RD9i54zAHfA",
        "colab_type": "code",
        "colab": {}
      },
      "source": [
        "quant_features = ['temp', 'atemp', 'hum','windspeed']\n",
        "\n",
        "means = train_data[quant_features].mean()\n",
        "stds = train_data[quant_features].std()\n",
        "\n",
        "train_data[quant_features] = (train_data[quant_features]-means)/stds\n",
        "val_data[quant_features] = (val_data[quant_features]-means)/stds\n",
        "test_data[quant_features] = (test_data[quant_features]-means)/stds"
      ],
      "execution_count": 0,
      "outputs": []
    },
    {
      "cell_type": "markdown",
      "metadata": {
        "id": "ylRo_gizsC3g",
        "colab_type": "text"
      },
      "source": [
        "Feature Engineering 파트에서 사용한 것들을 diagram으로 잘 그려두기."
      ]
    },
    {
      "cell_type": "code",
      "metadata": {
        "id": "7SmA9CGEsHrs",
        "colab_type": "code",
        "colab": {}
      },
      "source": [
        "targets= ['casual', 'registered', 'cnt']\n",
        "\n",
        "x_train, y_train = train_data.drop(targets, axis=1), train_data['cnt']\n",
        "x_val, y_val = val_data.drop(targets, axis=1), val_data['cnt']\n",
        "x_test, y_test = test_data.drop(targets, axis=1), test_data['cnt']\n"
      ],
      "execution_count": 0,
      "outputs": []
    },
    {
      "cell_type": "markdown",
      "metadata": {
        "id": "BAHEmYU3sIhS",
        "colab_type": "text"
      },
      "source": [
        "## 05. Modeling & Hyperparameter tuning\n",
        "\n",
        "* Validation set을 적극 활용해보자.\n",
        "* 여러 모델 다 사용해봐도 좋음.\n",
        "* **강사는 하나만**"
      ]
    },
    {
      "cell_type": "code",
      "metadata": {
        "id": "byZ4jLgUsQXt",
        "colab_type": "code",
        "colab": {}
      },
      "source": [
        "from sklearn.neural_network import MLPRegressor"
      ],
      "execution_count": 0,
      "outputs": []
    },
    {
      "cell_type": "code",
      "metadata": {
        "id": "uviBaXsjsQf5",
        "colab_type": "code",
        "colab": {}
      },
      "source": [
        "ann = MLPRegressor(hidden_layer_sizes=(64,32),early_stopping=True,\n",
        "                   max_iter=2000, verbose=True)\n",
        "ann.fit(x_train, y_train)"
      ],
      "execution_count": 0,
      "outputs": []
    },
    {
      "cell_type": "code",
      "metadata": {
        "id": "Q9E9tgrtCXTp",
        "colab_type": "code",
        "colab": {}
      },
      "source": [
        "y_tr_p = ann.predict(x_train)\n",
        "y_va_p = ann.predict(x_val)\n",
        "y_te_p = ann.predict(x_test)"
      ],
      "execution_count": 0,
      "outputs": []
    },
    {
      "cell_type": "code",
      "metadata": {
        "id": "Mahy-4XxsQ8c",
        "colab_type": "code",
        "colab": {}
      },
      "source": [
        "from sklearn.metrics import mean_squared_error as mse, r2_score"
      ],
      "execution_count": 0,
      "outputs": []
    },
    {
      "cell_type": "code",
      "metadata": {
        "id": "vw6IYshACNrw",
        "colab_type": "code",
        "outputId": "3dc2a9bc-9ee7-4c58-bb51-a1d0ee0ca58c",
        "colab": {
          "base_uri": "https://localhost:8080/",
          "height": 52
        }
      },
      "source": [
        "rmse_ann_tr = mse(y_train, y_tr_p)**(1/2)\n",
        "rmse_ann_va = mse(y_val, y_va_p)**(1/2)\n",
        "\n",
        "\n",
        "r2_ann_tr = r2_score(y_train, y_tr_p)\n",
        "r2_ann_va = r2_score(y_val, y_va_p)\n",
        "\n",
        "\n",
        "print('training // 뉴럴넷의 RMSE : {:.3f}, R^2: {:.5f}'.format(rmse_ann_tr, r2_ann_tr))\n",
        "print('validation // 뉴럴넷의 RMSE : {:.3f}, R^2: {:.5f}'.format(rmse_ann_va, r2_ann_va))\n"
      ],
      "execution_count": 0,
      "outputs": [
        {
          "output_type": "stream",
          "text": [
            "training // 뉴럴넷의 RMSE : 33.700, R^2: 0.96456\n",
            "validation // 뉴럴넷의 RMSE : 65.180, R^2: 0.89992\n"
          ],
          "name": "stdout"
        }
      ]
    },
    {
      "cell_type": "markdown",
      "metadata": {
        "id": "kN9ybAJBsYDc",
        "colab_type": "text"
      },
      "source": [
        "## 06. Evaluation on Test set & make a pipeline\n",
        "\n",
        "* Go? or Not to go?\n",
        "* 모든 규칙을 정리하여 파이프라인을 제작하자."
      ]
    },
    {
      "cell_type": "code",
      "metadata": {
        "id": "sHIaM20Zt1fj",
        "colab_type": "code",
        "outputId": "d841c10a-32a6-49fd-ab6e-ee0dfe35b99a",
        "colab": {
          "base_uri": "https://localhost:8080/",
          "height": 34
        }
      },
      "source": [
        "rmse_ann_te = mse(y_test, y_te_p)**(1/2)\n",
        "r2_ann_te = r2_score(y_test, y_te_p)\n",
        "print('test // 뉴럴넷의 RMSE : {:.3f}, R^2: {:.5f}'.format(rmse_ann_te, r2_ann_te))"
      ],
      "execution_count": 0,
      "outputs": [
        {
          "output_type": "stream",
          "text": [
            "test // 뉴럴넷의 RMSE : 82.719, R^2: 0.68620\n"
          ],
          "name": "stdout"
        }
      ]
    },
    {
      "cell_type": "markdown",
      "metadata": {
        "id": "o-zVGF2wuDuz",
        "colab_type": "text"
      },
      "source": [
        "# ML Pipeline for system\n",
        "\n",
        "Training Work Flow 의 모든 것을 재활용 한다.\n",
        "* 처음에 pipeline부터 먼저 그린다. 같이 그리자!\n",
        "\n",
        "**To-Do**\n",
        "1. Training Phase : **전체 데이터를 이용하여 모델을 만든다.**(train/valid/test안나눈다.)\n",
        "    * 하지만 이 실습에서는, 주어진 데이터만을 이용해야 하기 때문에 마지막 21일을 new_data로 떼어둔다.\n",
        "    * 나머지 데이터를 old_data로 떼어둔다.\n",
        "    * new_data는 마치 진짜로 데이터가 새로 들어올 때 처럼 사용할 것이다.\n",
        "\n",
        "3. Prediction Phase :\n",
        "    * new_data를 이용하여 예측값을 만들어본다.\n",
        "4. Monitoring ?"
      ]
    },
    {
      "cell_type": "markdown",
      "metadata": {
        "id": "9vyvwbLTuL3D",
        "colab_type": "text"
      },
      "source": [
        "## 01. Training Phase for model serving\n",
        "\n",
        "* Training Work Flow의 여러 규칙들을, 전체 데이터(old_data)를 이용하여 다시 제작하면 됨.\n"
      ]
    },
    {
      "cell_type": "code",
      "metadata": {
        "id": "btNOFhO-vYsw",
        "colab_type": "code",
        "colab": {}
      },
      "source": [
        "data_path = 'https://raw.githubusercontent.com/RayleighKim/Example_datasets/master/Bike-Sharing-Dataset/hour.csv'\n",
        "rides = pd.read_csv(data_path)\n",
        "\n",
        "new_data = rides[-21*24:]\n",
        "old_data = rides[:-21*24]"
      ],
      "execution_count": 0,
      "outputs": []
    },
    {
      "cell_type": "code",
      "metadata": {
        "id": "v0FGrbulvj6n",
        "colab_type": "code",
        "colab": {}
      },
      "source": [
        "dummy_fields = ['season', 'weathersit', 'mnth', 'hr', 'weekday']\n",
        "old_data = pd.get_dummies(old_data, columns=dummy_fields)\n",
        "\n",
        "fields_to_drop = ['instant', 'dteday']\n",
        "old_data.drop(fields_to_drop, axis=1, inplace=True)\n"
      ],
      "execution_count": 0,
      "outputs": []
    },
    {
      "cell_type": "code",
      "metadata": {
        "id": "qhst8tBOvY7f",
        "colab_type": "code",
        "colab": {}
      },
      "source": [
        "quant_features = ['temp', 'atemp', 'hum','windspeed']\n",
        "\n",
        "means = old_data[quant_features].mean()\n",
        "stds = old_data[quant_features].std()\n",
        "\n",
        "old_data[quant_features] = (old_data[quant_features]-means)/stds"
      ],
      "execution_count": 0,
      "outputs": []
    },
    {
      "cell_type": "code",
      "metadata": {
        "id": "sGmAOlkiEfkp",
        "colab_type": "code",
        "colab": {}
      },
      "source": [
        "targets= ['casual', 'registered', 'cnt']\n",
        "\n",
        "x_old, y_old = old_data.drop(targets, axis=1), old_data['cnt']"
      ],
      "execution_count": 0,
      "outputs": []
    },
    {
      "cell_type": "code",
      "metadata": {
        "id": "1AIHBV5EErR5",
        "colab_type": "code",
        "outputId": "6305a936-54ca-4ad7-a2ff-139086210b41",
        "colab": {
          "base_uri": "https://localhost:8080/",
          "height": 1000
        }
      },
      "source": [
        "from sklearn.neural_network import MLPRegressor\n",
        "ann = MLPRegressor(hidden_layer_sizes=(64,32),early_stopping=True,\n",
        "                   max_iter=2000, verbose=True)\n",
        "ann.fit(x_old, y_old)"
      ],
      "execution_count": 0,
      "outputs": [
        {
          "output_type": "stream",
          "text": [
            "Iteration 1, loss = 33280.93899782\n",
            "Validation score: -0.829917\n",
            "Iteration 2, loss = 22430.75498535\n",
            "Validation score: 0.161782\n",
            "Iteration 3, loss = 11085.26055656\n",
            "Validation score: 0.421068\n",
            "Iteration 4, loss = 9142.35065566\n",
            "Validation score: 0.498434\n",
            "Iteration 5, loss = 7955.81855804\n",
            "Validation score: 0.564191\n",
            "Iteration 6, loss = 6937.11947432\n",
            "Validation score: 0.620816\n",
            "Iteration 7, loss = 6063.86073324\n",
            "Validation score: 0.669641\n",
            "Iteration 8, loss = 5345.39477350\n",
            "Validation score: 0.707256\n",
            "Iteration 9, loss = 4831.37772661\n",
            "Validation score: 0.733329\n",
            "Iteration 10, loss = 4474.76110047\n",
            "Validation score: 0.751754\n",
            "Iteration 11, loss = 4234.35261854\n",
            "Validation score: 0.764707\n",
            "Iteration 12, loss = 4033.56381191\n",
            "Validation score: 0.775737\n",
            "Iteration 13, loss = 3862.31480957\n",
            "Validation score: 0.786365\n",
            "Iteration 14, loss = 3694.18508122\n",
            "Validation score: 0.796179\n",
            "Iteration 15, loss = 3520.61963238\n",
            "Validation score: 0.806846\n",
            "Iteration 16, loss = 3341.63586077\n",
            "Validation score: 0.817908\n",
            "Iteration 17, loss = 3156.99929665\n",
            "Validation score: 0.828083\n",
            "Iteration 18, loss = 2976.36417424\n",
            "Validation score: 0.839312\n",
            "Iteration 19, loss = 2797.28897210\n",
            "Validation score: 0.850546\n",
            "Iteration 20, loss = 2621.18718194\n",
            "Validation score: 0.861098\n",
            "Iteration 21, loss = 2461.66098889\n",
            "Validation score: 0.870507\n",
            "Iteration 22, loss = 2302.25528814\n",
            "Validation score: 0.879397\n",
            "Iteration 23, loss = 2161.88695087\n",
            "Validation score: 0.887706\n",
            "Iteration 24, loss = 2031.37853785\n",
            "Validation score: 0.895056\n",
            "Iteration 25, loss = 1915.66100684\n",
            "Validation score: 0.900962\n",
            "Iteration 26, loss = 1813.44060926\n",
            "Validation score: 0.907506\n",
            "Iteration 27, loss = 1719.94437690\n",
            "Validation score: 0.912131\n",
            "Iteration 28, loss = 1643.68843153\n",
            "Validation score: 0.916341\n",
            "Iteration 29, loss = 1570.61603971\n",
            "Validation score: 0.919531\n",
            "Iteration 30, loss = 1511.07778939\n",
            "Validation score: 0.922815\n",
            "Iteration 31, loss = 1459.04345794\n",
            "Validation score: 0.925926\n",
            "Iteration 32, loss = 1407.21268686\n",
            "Validation score: 0.928261\n",
            "Iteration 33, loss = 1365.60509853\n",
            "Validation score: 0.930204\n",
            "Iteration 34, loss = 1331.30445356\n",
            "Validation score: 0.929581\n",
            "Iteration 35, loss = 1293.64212298\n",
            "Validation score: 0.933879\n",
            "Iteration 36, loss = 1256.77702837\n",
            "Validation score: 0.935477\n",
            "Iteration 37, loss = 1228.43616519\n",
            "Validation score: 0.936653\n",
            "Iteration 38, loss = 1201.07908945\n",
            "Validation score: 0.937971\n",
            "Iteration 39, loss = 1174.55535672\n",
            "Validation score: 0.937722\n",
            "Iteration 40, loss = 1154.74909242\n",
            "Validation score: 0.940031\n",
            "Iteration 41, loss = 1130.41450427\n",
            "Validation score: 0.940517\n",
            "Iteration 42, loss = 1114.69204626\n",
            "Validation score: 0.941945\n",
            "Iteration 43, loss = 1092.83351536\n",
            "Validation score: 0.941790\n",
            "Iteration 44, loss = 1077.22549474\n",
            "Validation score: 0.943122\n",
            "Iteration 45, loss = 1063.27198174\n",
            "Validation score: 0.942613\n",
            "Iteration 46, loss = 1049.38524857\n",
            "Validation score: 0.944469\n",
            "Iteration 47, loss = 1032.43332602\n",
            "Validation score: 0.944941\n",
            "Iteration 48, loss = 1023.87785178\n",
            "Validation score: 0.945489\n",
            "Iteration 49, loss = 1012.80802068\n",
            "Validation score: 0.946208\n",
            "Iteration 50, loss = 1002.21452044\n",
            "Validation score: 0.946289\n",
            "Iteration 51, loss = 989.60173291\n",
            "Validation score: 0.946602\n",
            "Iteration 52, loss = 983.53979615\n",
            "Validation score: 0.946867\n",
            "Iteration 53, loss = 971.28532282\n",
            "Validation score: 0.947258\n",
            "Iteration 54, loss = 962.35416812\n",
            "Validation score: 0.947767\n",
            "Iteration 55, loss = 957.00023471\n",
            "Validation score: 0.946558\n",
            "Iteration 56, loss = 946.28336020\n",
            "Validation score: 0.947663\n",
            "Iteration 57, loss = 941.67720011\n",
            "Validation score: 0.947415\n",
            "Iteration 58, loss = 935.74851405\n",
            "Validation score: 0.947348\n",
            "Iteration 59, loss = 929.42617366\n",
            "Validation score: 0.948005\n",
            "Iteration 60, loss = 917.26611166\n",
            "Validation score: 0.948606\n",
            "Iteration 61, loss = 912.78469680\n",
            "Validation score: 0.948776\n",
            "Iteration 62, loss = 905.30987241\n",
            "Validation score: 0.949171\n",
            "Iteration 63, loss = 902.62232216\n",
            "Validation score: 0.949623\n",
            "Iteration 64, loss = 893.72133621\n",
            "Validation score: 0.949570\n",
            "Iteration 65, loss = 886.43652417\n",
            "Validation score: 0.949527\n",
            "Iteration 66, loss = 881.71594028\n",
            "Validation score: 0.950424\n",
            "Iteration 67, loss = 876.08691250\n",
            "Validation score: 0.949958\n",
            "Iteration 68, loss = 871.35871030\n",
            "Validation score: 0.950151\n",
            "Iteration 69, loss = 866.43534904\n",
            "Validation score: 0.949694\n",
            "Iteration 70, loss = 860.43516599\n",
            "Validation score: 0.950736\n",
            "Iteration 71, loss = 857.39302914\n",
            "Validation score: 0.950785\n",
            "Iteration 72, loss = 850.64999913\n",
            "Validation score: 0.951027\n",
            "Iteration 73, loss = 847.03273081\n",
            "Validation score: 0.951284\n",
            "Iteration 74, loss = 838.42789577\n",
            "Validation score: 0.951196\n",
            "Iteration 75, loss = 835.89455852\n",
            "Validation score: 0.951505\n",
            "Iteration 76, loss = 830.56363518\n",
            "Validation score: 0.951821\n",
            "Iteration 77, loss = 829.15191092\n",
            "Validation score: 0.951258\n",
            "Iteration 78, loss = 824.28964240\n",
            "Validation score: 0.949000\n",
            "Iteration 79, loss = 818.79386037\n",
            "Validation score: 0.951967\n",
            "Iteration 80, loss = 813.20641357\n",
            "Validation score: 0.952064\n",
            "Iteration 81, loss = 809.38095216\n",
            "Validation score: 0.952283\n",
            "Iteration 82, loss = 807.90367240\n",
            "Validation score: 0.952683\n",
            "Iteration 83, loss = 802.78619172\n",
            "Validation score: 0.952523\n",
            "Iteration 84, loss = 800.01610423\n",
            "Validation score: 0.952628\n",
            "Iteration 85, loss = 792.45197020\n",
            "Validation score: 0.953412\n",
            "Iteration 86, loss = 791.56627783\n",
            "Validation score: 0.953314\n",
            "Iteration 87, loss = 786.79756191\n",
            "Validation score: 0.953022\n",
            "Iteration 88, loss = 781.10313391\n",
            "Validation score: 0.952084\n",
            "Iteration 89, loss = 778.08026284\n",
            "Validation score: 0.953380\n",
            "Iteration 90, loss = 777.84626037\n",
            "Validation score: 0.953208\n",
            "Iteration 91, loss = 772.67310976\n",
            "Validation score: 0.953792\n",
            "Iteration 92, loss = 769.87562567\n",
            "Validation score: 0.953633\n",
            "Iteration 93, loss = 766.26143203\n",
            "Validation score: 0.953315\n",
            "Iteration 94, loss = 763.99103786\n",
            "Validation score: 0.954211\n",
            "Iteration 95, loss = 760.24266927\n",
            "Validation score: 0.954207\n",
            "Iteration 96, loss = 756.15304088\n",
            "Validation score: 0.954556\n",
            "Iteration 97, loss = 752.25031567\n",
            "Validation score: 0.954633\n",
            "Iteration 98, loss = 751.76518490\n",
            "Validation score: 0.953230\n",
            "Iteration 99, loss = 748.18254910\n",
            "Validation score: 0.953934\n",
            "Iteration 100, loss = 745.15117022\n",
            "Validation score: 0.954820\n",
            "Iteration 101, loss = 742.49640992\n",
            "Validation score: 0.955090\n",
            "Iteration 102, loss = 742.73212919\n",
            "Validation score: 0.955044\n",
            "Iteration 103, loss = 739.32166329\n",
            "Validation score: 0.954870\n",
            "Iteration 104, loss = 734.74527330\n",
            "Validation score: 0.955216\n",
            "Iteration 105, loss = 732.39404080\n",
            "Validation score: 0.954799\n",
            "Iteration 106, loss = 730.81272548\n",
            "Validation score: 0.955199\n",
            "Iteration 107, loss = 727.35321960\n",
            "Validation score: 0.955415\n",
            "Iteration 108, loss = 725.29437024\n",
            "Validation score: 0.955600\n",
            "Iteration 109, loss = 721.01548447\n",
            "Validation score: 0.954603\n",
            "Iteration 110, loss = 719.86354781\n",
            "Validation score: 0.955004\n",
            "Iteration 111, loss = 718.21657455\n",
            "Validation score: 0.954261\n",
            "Iteration 112, loss = 714.86878932\n",
            "Validation score: 0.955656\n",
            "Iteration 113, loss = 713.36015037\n",
            "Validation score: 0.955574\n",
            "Iteration 114, loss = 708.66434785\n",
            "Validation score: 0.955798\n",
            "Iteration 115, loss = 708.23427763\n",
            "Validation score: 0.955596\n",
            "Iteration 116, loss = 704.11985520\n",
            "Validation score: 0.955707\n",
            "Iteration 117, loss = 705.33068084\n",
            "Validation score: 0.955799\n",
            "Iteration 118, loss = 700.10658787\n",
            "Validation score: 0.956019\n",
            "Iteration 119, loss = 699.63947092\n",
            "Validation score: 0.956041\n",
            "Iteration 120, loss = 695.97398242\n",
            "Validation score: 0.955834\n",
            "Iteration 121, loss = 692.79671202\n",
            "Validation score: 0.956066\n",
            "Iteration 122, loss = 695.64287917\n",
            "Validation score: 0.955779\n",
            "Iteration 123, loss = 689.77127284\n",
            "Validation score: 0.956479\n",
            "Iteration 124, loss = 687.44825202\n",
            "Validation score: 0.956692\n",
            "Iteration 125, loss = 687.15054920\n",
            "Validation score: 0.955962\n",
            "Iteration 126, loss = 681.99119326\n",
            "Validation score: 0.956538\n",
            "Iteration 127, loss = 683.01177769\n",
            "Validation score: 0.956480\n",
            "Iteration 128, loss = 681.04487318\n",
            "Validation score: 0.956726\n",
            "Iteration 129, loss = 681.81995109\n",
            "Validation score: 0.955533\n",
            "Iteration 130, loss = 677.89042195\n",
            "Validation score: 0.956781\n",
            "Iteration 131, loss = 674.45133161\n",
            "Validation score: 0.956595\n",
            "Iteration 132, loss = 676.34696487\n",
            "Validation score: 0.956958\n",
            "Iteration 133, loss = 670.78462586\n",
            "Validation score: 0.956714\n",
            "Iteration 134, loss = 667.00707816\n",
            "Validation score: 0.957132\n",
            "Iteration 135, loss = 665.85293734\n",
            "Validation score: 0.957236\n",
            "Iteration 136, loss = 666.49422866\n",
            "Validation score: 0.957081\n",
            "Iteration 137, loss = 661.95442189\n",
            "Validation score: 0.957315\n",
            "Iteration 138, loss = 660.23109785\n",
            "Validation score: 0.957465\n",
            "Iteration 139, loss = 656.65401087\n",
            "Validation score: 0.957203\n",
            "Iteration 140, loss = 656.69594248\n",
            "Validation score: 0.956748\n",
            "Iteration 141, loss = 653.61087719\n",
            "Validation score: 0.956796\n",
            "Iteration 142, loss = 652.29902160\n",
            "Validation score: 0.957689\n",
            "Iteration 143, loss = 649.72676093\n",
            "Validation score: 0.957599\n",
            "Iteration 144, loss = 646.88404159\n",
            "Validation score: 0.957347\n",
            "Iteration 145, loss = 646.68283363\n",
            "Validation score: 0.957813\n",
            "Iteration 146, loss = 645.83902917\n",
            "Validation score: 0.957960\n",
            "Iteration 147, loss = 642.75936366\n",
            "Validation score: 0.957959\n",
            "Iteration 148, loss = 643.87495732\n",
            "Validation score: 0.957630\n",
            "Iteration 149, loss = 639.38061649\n",
            "Validation score: 0.957741\n",
            "Iteration 150, loss = 639.33088302\n",
            "Validation score: 0.958087\n",
            "Iteration 151, loss = 636.58151998\n",
            "Validation score: 0.957530\n",
            "Iteration 152, loss = 634.01299952\n",
            "Validation score: 0.958313\n",
            "Iteration 153, loss = 633.45030950\n",
            "Validation score: 0.958025\n",
            "Iteration 154, loss = 631.78582721\n",
            "Validation score: 0.957819\n",
            "Iteration 155, loss = 632.23992401\n",
            "Validation score: 0.958039\n",
            "Iteration 156, loss = 627.70623374\n",
            "Validation score: 0.957916\n",
            "Iteration 157, loss = 626.33920183\n",
            "Validation score: 0.958132\n",
            "Iteration 158, loss = 627.35328277\n",
            "Validation score: 0.957620\n",
            "Iteration 159, loss = 623.94607962\n",
            "Validation score: 0.958318\n",
            "Iteration 160, loss = 623.46466763\n",
            "Validation score: 0.958331\n",
            "Iteration 161, loss = 621.36060412\n",
            "Validation score: 0.958288\n",
            "Iteration 162, loss = 620.79640507\n",
            "Validation score: 0.958401\n",
            "Iteration 163, loss = 618.72271339\n",
            "Validation score: 0.958065\n",
            "Validation score did not improve more than tol=0.000100 for 10 consecutive epochs. Stopping.\n"
          ],
          "name": "stdout"
        },
        {
          "output_type": "execute_result",
          "data": {
            "text/plain": [
              "MLPRegressor(activation='relu', alpha=0.0001, batch_size='auto', beta_1=0.9,\n",
              "             beta_2=0.999, early_stopping=True, epsilon=1e-08,\n",
              "             hidden_layer_sizes=(64, 32), learning_rate='constant',\n",
              "             learning_rate_init=0.001, max_fun=15000, max_iter=2000,\n",
              "             momentum=0.9, n_iter_no_change=10, nesterovs_momentum=True,\n",
              "             power_t=0.5, random_state=None, shuffle=True, solver='adam',\n",
              "             tol=0.0001, validation_fraction=0.1, verbose=True,\n",
              "             warm_start=False)"
            ]
          },
          "metadata": {
            "tags": []
          },
          "execution_count": 68
        }
      ]
    },
    {
      "cell_type": "markdown",
      "metadata": {
        "id": "ZL99JBlhvZAS",
        "colab_type": "text"
      },
      "source": [
        "## 02. Prediction Phase\n",
        "\n",
        "**아래 내용들을 이용하여 진행한다.**\n",
        "* 위 Training Phase에서 제작한 규칙\n",
        "* 위 Training Phase에서 제작한 모델"
      ]
    },
    {
      "cell_type": "code",
      "metadata": {
        "id": "1xdZXp9jvx-2",
        "colab_type": "code",
        "colab": {}
      },
      "source": [
        "dummy_fields = ['season', 'weathersit', 'mnth', 'hr', 'weekday']\n",
        "new_data = pd.get_dummies(new_data, columns=dummy_fields)\n",
        "\n",
        "fields_to_drop = ['instant', 'dteday']\n",
        "new_data.drop(fields_to_drop, axis=1, inplace=True)"
      ],
      "execution_count": 0,
      "outputs": []
    },
    {
      "cell_type": "code",
      "metadata": {
        "id": "SmiLjtcVvyYH",
        "colab_type": "code",
        "colab": {}
      },
      "source": [
        "old_col = set(old_data.columns)\n",
        "new_col = set(new_data.columns)\n",
        "\n",
        "for feature in (old_col-new_col) :\n",
        "    new_data[feature] = 0\n",
        "\n",
        "old_data = old_data[old_data.columns]    "
      ],
      "execution_count": 0,
      "outputs": []
    },
    {
      "cell_type": "code",
      "metadata": {
        "id": "9_j6EZ_nEb7c",
        "colab_type": "code",
        "colab": {}
      },
      "source": [
        "new_data[quant_features] = (new_data[quant_features]-means)/stds"
      ],
      "execution_count": 0,
      "outputs": []
    },
    {
      "cell_type": "code",
      "metadata": {
        "id": "7BSZwvzGEl7B",
        "colab_type": "code",
        "colab": {}
      },
      "source": [
        "targets= ['casual', 'registered', 'cnt']\n",
        "\n",
        "x_new, y_new = new_data.drop(targets, axis=1), new_data['cnt']"
      ],
      "execution_count": 0,
      "outputs": []
    },
    {
      "cell_type": "code",
      "metadata": {
        "id": "YY82L2SnExR4",
        "colab_type": "code",
        "colab": {}
      },
      "source": [
        "y_new_p = ann.predict(x_new)"
      ],
      "execution_count": 0,
      "outputs": []
    },
    {
      "cell_type": "markdown",
      "metadata": {
        "id": "Yxhrs3E0vyhL",
        "colab_type": "text"
      },
      "source": [
        "## 03. Monitoring을 한다면?\n",
        "** Discussion **"
      ]
    },
    {
      "cell_type": "code",
      "metadata": {
        "id": "3nEHAjdEv-c7",
        "colab_type": "code",
        "outputId": "91d74619-7d07-4727-b111-20d0c7f1c93b",
        "colab": {
          "base_uri": "https://localhost:8080/",
          "height": 124
        }
      },
      "source": [
        "new_df = rides[-21*24:]\n",
        "new_df['cnt_pred'] = y_new_p"
      ],
      "execution_count": 0,
      "outputs": [
        {
          "output_type": "stream",
          "text": [
            "/usr/local/lib/python3.6/dist-packages/ipykernel_launcher.py:2: SettingWithCopyWarning: \n",
            "A value is trying to be set on a copy of a slice from a DataFrame.\n",
            "Try using .loc[row_indexer,col_indexer] = value instead\n",
            "\n",
            "See the caveats in the documentation: https://pandas.pydata.org/pandas-docs/stable/user_guide/indexing.html#returning-a-view-versus-a-copy\n",
            "  \n"
          ],
          "name": "stderr"
        }
      ]
    },
    {
      "cell_type": "code",
      "metadata": {
        "id": "zBiflabkFI_P",
        "colab_type": "code",
        "outputId": "e680dd92-357b-4a1c-f9a4-fc817ff19f53",
        "colab": {
          "base_uri": "https://localhost:8080/",
          "height": 532
        }
      },
      "source": [
        "print('rmse :',mse(y_new, y_new_p)**(1/2))\n",
        "new_df.plot(x='dteday', y=['cnt', 'cnt_pred'], figsize=(12,8))\n"
      ],
      "execution_count": 0,
      "outputs": [
        {
          "output_type": "stream",
          "text": [
            "rmse : 195.18098487591143\n"
          ],
          "name": "stdout"
        },
        {
          "output_type": "execute_result",
          "data": {
            "text/plain": [
              "<matplotlib.axes._subplots.AxesSubplot at 0x7f1a9b624d30>"
            ]
          },
          "metadata": {
            "tags": []
          },
          "execution_count": 80
        },
        {
          "output_type": "display_data",
          "data": {
            "image/png": "[encoded data removed]",
            "text/plain": [
              "<Figure size 864x576 with 1 Axes>"
            ]
          },
          "metadata": {
            "tags": [],
            "needs_background": "light"
          }
        }
      ]
    }
  ]
}